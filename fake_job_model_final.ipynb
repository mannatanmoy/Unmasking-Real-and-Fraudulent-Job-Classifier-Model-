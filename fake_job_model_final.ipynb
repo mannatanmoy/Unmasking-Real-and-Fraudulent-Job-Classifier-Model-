{
 "cells": [
  {
   "cell_type": "code",
   "execution_count": 1,
   "id": "a39cc0f7",
   "metadata": {},
   "outputs": [],
   "source": [
    "import warnings\n",
    "warnings.filterwarnings(\"ignore\")\n",
    "    \n",
    "import matplotlib.pyplot as plt\n",
    "from sklearn import model_selection\n",
    "from sklearn.tree import DecisionTreeClassifier\n",
    "from sklearn.naive_bayes import MultinomialNB\n",
    "from sklearn.linear_model import LogisticRegression\n",
    "from sklearn.linear_model import SGDClassifier\n",
    "from sklearn.model_selection import train_test_split\n",
    "from sklearn.feature_extraction.text import CountVectorizer\n",
    "import pandas as pd\n",
    "import numpy as np"
   ]
  },
  {
   "cell_type": "code",
   "execution_count": 2,
   "id": "c8eda67e",
   "metadata": {},
   "outputs": [
    {
     "data": {
      "text/html": [
       "<div>\n",
       "<style scoped>\n",
       "    .dataframe tbody tr th:only-of-type {\n",
       "        vertical-align: middle;\n",
       "    }\n",
       "\n",
       "    .dataframe tbody tr th {\n",
       "        vertical-align: top;\n",
       "    }\n",
       "\n",
       "    .dataframe thead th {\n",
       "        text-align: right;\n",
       "    }\n",
       "</style>\n",
       "<table border=\"1\" class=\"dataframe\">\n",
       "  <thead>\n",
       "    <tr style=\"text-align: right;\">\n",
       "      <th></th>\n",
       "      <th>Unnamed: 0</th>\n",
       "      <th>telecommuting</th>\n",
       "      <th>has_company_logo</th>\n",
       "      <th>has_questions</th>\n",
       "      <th>fraudulent</th>\n",
       "      <th>ratio</th>\n",
       "      <th>e_ratio</th>\n",
       "      <th>r_ratio</th>\n",
       "      <th>r_edu_ratio</th>\n",
       "      <th>i_ratio</th>\n",
       "      <th>f_ratio</th>\n",
       "      <th>text</th>\n",
       "      <th>character_count</th>\n",
       "    </tr>\n",
       "  </thead>\n",
       "  <tbody>\n",
       "    <tr>\n",
       "      <th>0</th>\n",
       "      <td>0</td>\n",
       "      <td>0</td>\n",
       "      <td>1</td>\n",
       "      <td>0</td>\n",
       "      <td>0</td>\n",
       "      <td>0.03</td>\n",
       "      <td>0.071</td>\n",
       "      <td>0.027</td>\n",
       "      <td>0.059</td>\n",
       "      <td>0.059</td>\n",
       "      <td>0.012</td>\n",
       "      <td>Marketing Intern US, NY, New York We're Food52...</td>\n",
       "      <td>2713</td>\n",
       "    </tr>\n",
       "    <tr>\n",
       "      <th>1</th>\n",
       "      <td>1</td>\n",
       "      <td>0</td>\n",
       "      <td>1</td>\n",
       "      <td>0</td>\n",
       "      <td>0</td>\n",
       "      <td>0.03</td>\n",
       "      <td>0.071</td>\n",
       "      <td>0.027</td>\n",
       "      <td>0.059</td>\n",
       "      <td>0.059</td>\n",
       "      <td>0.012</td>\n",
       "      <td>Audience Development Intern US, NY, New York W...</td>\n",
       "      <td>2728</td>\n",
       "    </tr>\n",
       "    <tr>\n",
       "      <th>2</th>\n",
       "      <td>2</td>\n",
       "      <td>0</td>\n",
       "      <td>1</td>\n",
       "      <td>1</td>\n",
       "      <td>0</td>\n",
       "      <td>0.00</td>\n",
       "      <td>0.075</td>\n",
       "      <td>0.027</td>\n",
       "      <td>0.059</td>\n",
       "      <td>0.059</td>\n",
       "      <td>0.012</td>\n",
       "      <td>Marketing Trainee- Russian Market GR, I, Athen...</td>\n",
       "      <td>1759</td>\n",
       "    </tr>\n",
       "    <tr>\n",
       "      <th>3</th>\n",
       "      <td>3</td>\n",
       "      <td>0</td>\n",
       "      <td>1</td>\n",
       "      <td>1</td>\n",
       "      <td>0</td>\n",
       "      <td>0.00</td>\n",
       "      <td>0.075</td>\n",
       "      <td>0.027</td>\n",
       "      <td>0.059</td>\n",
       "      <td>0.059</td>\n",
       "      <td>0.012</td>\n",
       "      <td>OUD: Stage Marketing 3. NL, UT, Amersfoort Sum...</td>\n",
       "      <td>2196</td>\n",
       "    </tr>\n",
       "    <tr>\n",
       "      <th>4</th>\n",
       "      <td>4</td>\n",
       "      <td>0</td>\n",
       "      <td>1</td>\n",
       "      <td>0</td>\n",
       "      <td>0</td>\n",
       "      <td>0.03</td>\n",
       "      <td>0.044</td>\n",
       "      <td>0.027</td>\n",
       "      <td>0.059</td>\n",
       "      <td>0.059</td>\n",
       "      <td>0.012</td>\n",
       "      <td>Marketing Intern US, NY, New York Fusemachines...</td>\n",
       "      <td>3231</td>\n",
       "    </tr>\n",
       "    <tr>\n",
       "      <th>...</th>\n",
       "      <td>...</td>\n",
       "      <td>...</td>\n",
       "      <td>...</td>\n",
       "      <td>...</td>\n",
       "      <td>...</td>\n",
       "      <td>...</td>\n",
       "      <td>...</td>\n",
       "      <td>...</td>\n",
       "      <td>...</td>\n",
       "      <td>...</td>\n",
       "      <td>...</td>\n",
       "      <td>...</td>\n",
       "      <td>...</td>\n",
       "    </tr>\n",
       "    <tr>\n",
       "      <th>17875</th>\n",
       "      <td>17875</td>\n",
       "      <td>0</td>\n",
       "      <td>0</td>\n",
       "      <td>0</td>\n",
       "      <td>0</td>\n",
       "      <td>0.05</td>\n",
       "      <td>0.044</td>\n",
       "      <td>0.031</td>\n",
       "      <td>0.020</td>\n",
       "      <td>0.114</td>\n",
       "      <td>0.000</td>\n",
       "      <td>Materials Manager (Hospital Experience Require...</td>\n",
       "      <td>750</td>\n",
       "    </tr>\n",
       "    <tr>\n",
       "      <th>17876</th>\n",
       "      <td>17876</td>\n",
       "      <td>0</td>\n",
       "      <td>0</td>\n",
       "      <td>0</td>\n",
       "      <td>0</td>\n",
       "      <td>0.00</td>\n",
       "      <td>0.044</td>\n",
       "      <td>0.057</td>\n",
       "      <td>0.046</td>\n",
       "      <td>0.134</td>\n",
       "      <td>0.000</td>\n",
       "      <td>Executive Assistant - Purchasing Department US...</td>\n",
       "      <td>1108</td>\n",
       "    </tr>\n",
       "    <tr>\n",
       "      <th>17877</th>\n",
       "      <td>17877</td>\n",
       "      <td>0</td>\n",
       "      <td>1</td>\n",
       "      <td>1</td>\n",
       "      <td>0</td>\n",
       "      <td>0.05</td>\n",
       "      <td>0.044</td>\n",
       "      <td>0.046</td>\n",
       "      <td>0.020</td>\n",
       "      <td>0.019</td>\n",
       "      <td>0.000</td>\n",
       "      <td>Purchasing Director US, ,  Human capital is us...</td>\n",
       "      <td>5173</td>\n",
       "    </tr>\n",
       "    <tr>\n",
       "      <th>17878</th>\n",
       "      <td>17878</td>\n",
       "      <td>0</td>\n",
       "      <td>0</td>\n",
       "      <td>0</td>\n",
       "      <td>0</td>\n",
       "      <td>0.00</td>\n",
       "      <td>0.044</td>\n",
       "      <td>0.066</td>\n",
       "      <td>0.059</td>\n",
       "      <td>0.000</td>\n",
       "      <td>0.000</td>\n",
       "      <td>Purchasing Agent US, MN, Ramsey   Diamond Grap...</td>\n",
       "      <td>5009</td>\n",
       "    </tr>\n",
       "    <tr>\n",
       "      <th>17879</th>\n",
       "      <td>17879</td>\n",
       "      <td>0</td>\n",
       "      <td>0</td>\n",
       "      <td>0</td>\n",
       "      <td>0</td>\n",
       "      <td>0.00</td>\n",
       "      <td>0.044</td>\n",
       "      <td>0.019</td>\n",
       "      <td>0.022</td>\n",
       "      <td>0.121</td>\n",
       "      <td>0.000</td>\n",
       "      <td>Purchasing Agent US, WI, Franksville Dairy, fo...</td>\n",
       "      <td>2530</td>\n",
       "    </tr>\n",
       "  </tbody>\n",
       "</table>\n",
       "<p>17880 rows × 13 columns</p>\n",
       "</div>"
      ],
      "text/plain": [
       "       Unnamed: 0  telecommuting  has_company_logo  has_questions  fraudulent  \\\n",
       "0               0              0                 1              0           0   \n",
       "1               1              0                 1              0           0   \n",
       "2               2              0                 1              1           0   \n",
       "3               3              0                 1              1           0   \n",
       "4               4              0                 1              0           0   \n",
       "...           ...            ...               ...            ...         ...   \n",
       "17875       17875              0                 0              0           0   \n",
       "17876       17876              0                 0              0           0   \n",
       "17877       17877              0                 1              1           0   \n",
       "17878       17878              0                 0              0           0   \n",
       "17879       17879              0                 0              0           0   \n",
       "\n",
       "       ratio  e_ratio  r_ratio  r_edu_ratio  i_ratio  f_ratio  \\\n",
       "0       0.03    0.071    0.027        0.059    0.059    0.012   \n",
       "1       0.03    0.071    0.027        0.059    0.059    0.012   \n",
       "2       0.00    0.075    0.027        0.059    0.059    0.012   \n",
       "3       0.00    0.075    0.027        0.059    0.059    0.012   \n",
       "4       0.03    0.044    0.027        0.059    0.059    0.012   \n",
       "...      ...      ...      ...          ...      ...      ...   \n",
       "17875   0.05    0.044    0.031        0.020    0.114    0.000   \n",
       "17876   0.00    0.044    0.057        0.046    0.134    0.000   \n",
       "17877   0.05    0.044    0.046        0.020    0.019    0.000   \n",
       "17878   0.00    0.044    0.066        0.059    0.000    0.000   \n",
       "17879   0.00    0.044    0.019        0.022    0.121    0.000   \n",
       "\n",
       "                                                    text  character_count  \n",
       "0      Marketing Intern US, NY, New York We're Food52...             2713  \n",
       "1      Audience Development Intern US, NY, New York W...             2728  \n",
       "2      Marketing Trainee- Russian Market GR, I, Athen...             1759  \n",
       "3      OUD: Stage Marketing 3. NL, UT, Amersfoort Sum...             2196  \n",
       "4      Marketing Intern US, NY, New York Fusemachines...             3231  \n",
       "...                                                  ...              ...  \n",
       "17875  Materials Manager (Hospital Experience Require...              750  \n",
       "17876  Executive Assistant - Purchasing Department US...             1108  \n",
       "17877  Purchasing Director US, ,  Human capital is us...             5173  \n",
       "17878  Purchasing Agent US, MN, Ramsey   Diamond Grap...             5009  \n",
       "17879  Purchasing Agent US, WI, Franksville Dairy, fo...             2530  \n",
       "\n",
       "[17880 rows x 13 columns]"
      ]
     },
     "execution_count": 2,
     "metadata": {},
     "output_type": "execute_result"
    }
   ],
   "source": [
    "fake_job_postings = pd.read_csv(\"C:\\\\Users\\\\SWADHIN\\\\OneDrive\\\\Desktop\\\\SEM2_FAKE_JOB\\\\fake_job_postings_cleaned3.csv\")\n",
    "fake_job_postings"
   ]
  },
  {
   "cell_type": "code",
   "execution_count": 37,
   "id": "f8b1546e",
   "metadata": {},
   "outputs": [],
   "source": [
    "X = fake_job_postings[['telecommuting','has_company_logo','has_questions', 'ratio','e_ratio','r_ratio','r_edu_ratio','i_ratio','f_ratio','text', 'character_count']]\n",
    "y = fake_job_postings['fraudulent']"
   ]
  },
  {
   "cell_type": "code",
   "execution_count": 38,
   "id": "a03e58b1",
   "metadata": {},
   "outputs": [],
   "source": [
    "X_train, X_test, y_train, y_test = train_test_split(X, y, test_size=0.30,random_state = 52)"
   ]
  },
  {
   "cell_type": "code",
   "execution_count": 39,
   "id": "9c703329",
   "metadata": {},
   "outputs": [],
   "source": [
    "X_train_num = X_train[['telecommuting','has_company_logo','has_questions', 'ratio','e_ratio','r_ratio','r_edu_ratio','i_ratio','f_ratio', 'character_count']]\n",
    "X_test_num = X_test[['telecommuting','has_company_logo','has_questions', 'ratio','e_ratio','r_ratio','r_edu_ratio','i_ratio','f_ratio', 'character_count']]"
   ]
  },
  {
   "cell_type": "code",
   "execution_count": 40,
   "id": "22cd1d24",
   "metadata": {},
   "outputs": [],
   "source": [
    "kfold = model_selection.KFold(n_splits=10, random_state = 52, shuffle=True)"
   ]
  },
  {
   "cell_type": "code",
   "execution_count": 43,
   "id": "87cca3b2",
   "metadata": {},
   "outputs": [
    {
     "name": "stdout",
     "output_type": "stream",
     "text": [
      "LR : 0.959731 (0.004502)\n",
      "DTC : 0.962288 (0.003481)\n",
      "NB : 0.956775 (0.004899)\n",
      "SGD : 0.951741 (0.005129)\n"
     ]
    }
   ],
   "source": [
    "models = []\n",
    "models.append(('LR',LogisticRegression()))\n",
    "models.append(('DTC',DecisionTreeClassifier()))\n",
    "models.append(('NB',MultinomialNB()))\n",
    "models.append(('SGD',SGDClassifier()))\n",
    "\n",
    "results = []\n",
    "names = []\n",
    "scoring = 'accuracy'\n",
    "for name,model in models:\n",
    "    kfold = model_selection.KFold(n_splits=10,random_state = 52, shuffle=True)\n",
    "    cv_results = model_selection.cross_val_score(model,X_train_num,y_train,cv = kfold, scoring=scoring)\n",
    "    results.append(cv_results)\n",
    "    names.append(name)\n",
    "    msg = \"%s : %f (%f)\" %(name, cv_results.mean(),cv_results.std())\n",
    "    print(msg)"
   ]
  },
  {
   "cell_type": "code",
   "execution_count": 44,
   "id": "f68b162f",
   "metadata": {},
   "outputs": [
    {
     "ename": "AttributeError",
     "evalue": "'AxesSubplot' object has no attribute 'set_xticklables'",
     "output_type": "error",
     "traceback": [
      "\u001b[1;31m---------------------------------------------------------------------------\u001b[0m",
      "\u001b[1;31mAttributeError\u001b[0m                            Traceback (most recent call last)",
      "Cell \u001b[1;32mIn [44], line 4\u001b[0m\n\u001b[0;32m      2\u001b[0m ax \u001b[38;5;241m=\u001b[39m fig\u001b[38;5;241m.\u001b[39madd_subplot(\u001b[38;5;241m111\u001b[39m)\n\u001b[0;32m      3\u001b[0m plt\u001b[38;5;241m.\u001b[39mboxplot(results)\n\u001b[1;32m----> 4\u001b[0m \u001b[43max\u001b[49m\u001b[38;5;241;43m.\u001b[39;49m\u001b[43mset_xticklables\u001b[49m(names)\n\u001b[0;32m      5\u001b[0m plt\u001b[38;5;241m.\u001b[39mshow\n",
      "\u001b[1;31mAttributeError\u001b[0m: 'AxesSubplot' object has no attribute 'set_xticklables'"
     ]
    },
    {
     "data": {
      "image/png": "[encoded data removed]",
      "text/plain": [
       "<Figure size 1000x1000 with 1 Axes>"
      ]
     },
     "metadata": {},
     "output_type": "display_data"
    }
   ],
   "source": [
    "fig = plt.figure(figsize=(10,10))\n",
    "ax = fig.add_subplot(111)\n",
    "plt.boxplot(results)\n",
    "ax.set_xticklables(names)\n",
    "plt.show"
   ]
  },
  {
   "cell_type": "code",
   "execution_count": null,
   "id": "51cd6c6f",
   "metadata": {},
   "outputs": [],
   "source": [
    "def clean(text):\n",
    "    text=text.lower()\n",
    "    obj=re.compile(r\"<.*?>\")                     #removing html tags\n",
    "    text=obj.sub(r\" \",text)\n",
    "    obj=re.compile(r\"https://\\S+|http://\\S+\")    #removing url\n",
    "    text=obj.sub(r\" \",text)\n",
    "    obj=re.compile(r\"[^\\w\\s]\")                   #removing punctuations\n",
    "    text=obj.sub(r\" \",text)\n",
    "    obj=re.compile(r\"\\d{1,}\")                    #removing digits\n",
    "    text=obj.sub(r\" \",text)\n",
    "    obj=re.compile(r\"_+\")                        #removing underscore\n",
    "    text=obj.sub(r\" \",text)\n",
    "    obj=re.compile(r\"\\s\\w\\s\")                    #removing single character\n",
    "    text=obj.sub(r\" \",text)\n",
    "    obj=re.compile(r\"\\s{2,}\")                    #removing multiple spaces\n",
    "    text=obj.sub(r\" \",text)\n",
    "   \n",
    "    \n",
    "    stemmer = SnowballStemmer(\"english\")\n",
    "    text=[stemmer.stem(word) for word in text.split() if word not in stop]\n",
    "    \n",
    "    return \" \".join(text)"
   ]
  },
  {
   "cell_type": "code",
   "execution_count": 45,
   "id": "bccb9c12",
   "metadata": {},
   "outputs": [],
   "source": [
    "count_vectorizer = CountVectorizer(stop_words='english')\n",
    "count_train = count_vectorizer.fit_transform(X_train.text.values)\n",
    "count_test = count_vectorizer.transform(X_test.text.values)"
   ]
  },
  {
   "cell_type": "code",
   "execution_count": 47,
   "id": "c702ec8d",
   "metadata": {},
   "outputs": [
    {
     "name": "stdout",
     "output_type": "stream",
     "text": [
      "LR : 0.982502 (0.002686)\n",
      "DTC : 0.978827 (0.002122)\n",
      "NB : 0.965964 (0.005443)\n",
      "SGD : 0.982742 (0.003337)\n"
     ]
    }
   ],
   "source": [
    "models = []\n",
    "models.append(('LR',LogisticRegression()))\n",
    "models.append(('DTC',DecisionTreeClassifier()))\n",
    "models.append(('NB',MultinomialNB()))\n",
    "models.append(('SGD',SGDClassifier()))\n",
    "\n",
    "results = []\n",
    "names = []\n",
    "scoring = 'accuracy'\n",
    "for name,model in models:\n",
    "    kfold = model_selection.KFold(n_splits=10,random_state = 52, shuffle=True)\n",
    "    cv_results = model_selection.cross_val_score(model,count_train,y_train,cv = kfold, scoring=scoring)\n",
    "    results.append(cv_results)\n",
    "    names.append(name)\n",
    "    msg = \"%s : %f (%f)\" %(name, cv_results.mean(),cv_results.std())\n",
    "    print(msg)"
   ]
  },
  {
   "cell_type": "code",
   "execution_count": 49,
   "id": "6a8aef0f",
   "metadata": {},
   "outputs": [
    {
     "data": {
      "text/plain": [
       "0.9843400447427293"
      ]
     },
     "execution_count": 49,
     "metadata": {},
     "output_type": "execute_result"
    }
   ],
   "source": [
    "from sklearn import metrics\n",
    "clf_log = SGDClassifier(loss='log').fit(count_train, y_train)\n",
    "pred_log = clf_log.predict(count_test)\n",
    "metrics.accuracy_score(y_test, pred_log)"
   ]
  },
  {
   "cell_type": "code",
   "execution_count": 54,
   "id": "d41dea79",
   "metadata": {},
   "outputs": [
    {
     "data": {
      "text/plain": [
       "0.9574944071588367"
      ]
     },
     "execution_count": 54,
     "metadata": {},
     "output_type": "execute_result"
    }
   ],
   "source": [
    "from sklearn import tree\n",
    "Dtc = tree.DecisionTreeClassifier()\n",
    "Dtc = Dtc.fit(X_train_num,y_train)\n",
    "pred_num = Dtc.predict(X_test_num)\n",
    "metrics.accuracy_score(y_test, pred_num)"
   ]
  },
  {
   "cell_type": "code",
   "execution_count": 53,
   "id": "5eb53e28",
   "metadata": {},
   "outputs": [
    {
     "data": {
      "text/plain": [
       "0.9515287099179717"
      ]
     },
     "execution_count": 53,
     "metadata": {},
     "output_type": "execute_result"
    }
   ],
   "source": [
    "clf_num = SGDClassifier(loss='log').fit(X_train_num, y_train)\n",
    "pred_num1 = clf_num.predict(X_test_num)\n",
    "metrics.accuracy_score(y_test, pred_num1)"
   ]
  },
  {
   "cell_type": "code",
   "execution_count": 55,
   "id": "16da669c",
   "metadata": {},
   "outputs": [],
   "source": [
    "prediction_array = []\n",
    "\n",
    "for i, j in zip(pred_num, pred_log):\n",
    "    if i == 0 and j == 0:\n",
    "        prediction_array.append(0)\n",
    "    else:\n",
    "        prediction_array.append(1)"
   ]
  },
  {
   "cell_type": "code",
   "execution_count": 56,
   "id": "252b0315",
   "metadata": {},
   "outputs": [
    {
     "data": {
      "text/plain": [
       "0.9655108128262491"
      ]
     },
     "execution_count": 56,
     "metadata": {},
     "output_type": "execute_result"
    }
   ],
   "source": [
    "metrics.accuracy_score(y_test, prediction_array)"
   ]
  },
  {
   "cell_type": "code",
   "execution_count": 57,
   "id": "98f2fb60",
   "metadata": {},
   "outputs": [
    {
     "data": {
      "text/plain": [
       "0.7095761381475668"
      ]
     },
     "execution_count": 57,
     "metadata": {},
     "output_type": "execute_result"
    }
   ],
   "source": [
    "metrics.f1_score(y_test, prediction_array)"
   ]
  },
  {
   "cell_type": "code",
   "execution_count": 58,
   "id": "2ac19f00",
   "metadata": {},
   "outputs": [],
   "source": [
    "prediction_array = []\n",
    "\n",
    "for i, j in zip(pred_num1, pred_log):\n",
    "    if i == 0 and j == 0:\n",
    "        prediction_array.append(0)\n",
    "    else:\n",
    "        prediction_array.append(1)"
   ]
  },
  {
   "cell_type": "code",
   "execution_count": 59,
   "id": "daa7aa43",
   "metadata": {},
   "outputs": [
    {
     "data": {
      "text/plain": [
       "0.9847129008202834"
      ]
     },
     "execution_count": 59,
     "metadata": {},
     "output_type": "execute_result"
    }
   ],
   "source": [
    "metrics.accuracy_score(y_test, prediction_array)"
   ]
  },
  {
   "cell_type": "code",
   "execution_count": 60,
   "id": "ae544773",
   "metadata": {},
   "outputs": [
    {
     "data": {
      "text/plain": [
       "0.8366533864541833"
      ]
     },
     "execution_count": 60,
     "metadata": {},
     "output_type": "execute_result"
    }
   ],
   "source": [
    "metrics.f1_score(y_test, prediction_array)"
   ]
  },
  {
   "cell_type": "code",
   "execution_count": 61,
   "id": "08fabd30",
   "metadata": {},
   "outputs": [],
   "source": [
    "from sklearn.metrics import confusion_matrix\n",
    "\n",
    "cf_matrix = confusion_matrix(y_test, prediction_array)"
   ]
  },
  {
   "cell_type": "code",
   "execution_count": 63,
   "id": "6b78288b",
   "metadata": {},
   "outputs": [
    {
     "data": {
      "image/png": "[encoded data removed]",
      "text/plain": [
       "<Figure size 640x480 with 2 Axes>"
      ]
     },
     "metadata": {},
     "output_type": "display_data"
    }
   ],
   "source": [
    "import seaborn as sns\n",
    "group_names = [\"True Pos\",\"False Pos\", \"False Neg\", \"True Pos\"]\n",
    "group_counts = [\"{0:0.0f}\".format(value) for value in\n",
    "                cf_matrix.flatten()]\n",
    "group_percentages = [\"{0:.2%}\".format(value) for value in\n",
    "                      cf_matrix.flatten()/np.sum(cf_matrix)]\n",
    "labels = [f'{v1}\\n{v2}\\n{v3}' for v1, v2, v3 in\n",
    "          zip(group_names,group_counts,group_percentages)]\n",
    "labels = np.asarray(labels).reshape(2,2)\n",
    "sns.heatmap(cf_matrix, annot=labels, fmt='', cmap='Blues');"
   ]
  },
  {
   "cell_type": "code",
   "execution_count": null,
   "id": "61b05399",
   "metadata": {},
   "outputs": [],
   "source": []
  },
  {
   "cell_type": "code",
   "execution_count": null,
   "id": "23fa3db0",
   "metadata": {},
   "outputs": [],
   "source": []
  },
  {
   "cell_type": "code",
   "execution_count": null,
   "id": "20c6f2fd",
   "metadata": {},
   "outputs": [],
   "source": []
  }
 ],
 "metadata": {
  "kernelspec": {
   "display_name": "Python 3 (ipykernel)",
   "language": "python",
   "name": "python3"
  },
  "language_info": {
   "codemirror_mode": {
    "name": "ipython",
    "version": 3
   },
   "file_extension": ".py",
   "mimetype": "text/x-python",
   "name": "python",
   "nbconvert_exporter": "python",
   "pygments_lexer": "ipython3",
   "version": "3.10.7"
  }
 },
 "nbformat": 4,
 "nbformat_minor": 5
}
